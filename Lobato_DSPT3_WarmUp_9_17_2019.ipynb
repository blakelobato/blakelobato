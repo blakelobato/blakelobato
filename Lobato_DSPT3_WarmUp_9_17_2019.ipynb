{
  "nbformat": 4,
  "nbformat_minor": 0,
  "metadata": {
    "colab": {
      "name": "Lobato DSPT3 WarmUp 9/17/2019",
      "provenance": [],
      "collapsed_sections": [],
      "include_colab_link": true
    },
    "kernelspec": {
      "name": "python3",
      "display_name": "Python 3"
    }
  },
  "cells": [
    {
      "cell_type": "markdown",
      "metadata": {
        "id": "view-in-github",
        "colab_type": "text"
      },
      "source": [
        "<a href=\"https://colab.research.google.com/github/blakelobato/blakelobato/blob/master/Lobato_DSPT3_WarmUp_9_17_2019.ipynb\" target=\"_parent\"><img src=\"https://colab.research.google.com/assets/colab-badge.svg\" alt=\"Open In Colab\"/></a>"
      ]
    },
    {
      "cell_type": "markdown",
      "metadata": {
        "id": "vWT6tASmtLOl",
        "colab_type": "text"
      },
      "source": [
        "# DSPT3 Warm Up"
      ]
    },
    {
      "cell_type": "markdown",
      "metadata": {
        "id": "i77flwHAtXoH",
        "colab_type": "text"
      },
      "source": [
        "## All questions in this code challenge refer to the dataframe below."
      ]
    },
    {
      "cell_type": "markdown",
      "metadata": {
        "id": "sEIjSITt3Fln",
        "colab_type": "text"
      },
      "source": [
        "                                                                                ."
      ]
    },
    {
      "cell_type": "code",
      "metadata": {
        "id": "rdnf8zIss92f",
        "colab_type": "code",
        "colab": {}
      },
      "source": [
        "import pandas as pd\n",
        "df = pd.read_csv('https://raw.githubusercontent.com/ValerieLangat/CC-DSPT3/master/Cars%20-%20Sheet1.csv')"
      ],
      "execution_count": 0,
      "outputs": []
    },
    {
      "cell_type": "markdown",
      "metadata": {
        "id": "nO6YNzmNtVJ0",
        "colab_type": "text"
      },
      "source": [
        "## Question 1:\n",
        "### Find the max and min values of the passengers column *without* using df.describe()"
      ]
    },
    {
      "cell_type": "code",
      "metadata": {
        "id": "l5kgchYeuVhB",
        "colab_type": "code",
        "colab": {
          "base_uri": "https://localhost:8080/",
          "height": 131
        },
        "outputId": "267ba3d3-322e-406f-b28b-9cb98211872e"
      },
      "source": [
        "#TODO\n",
        "df.head(5)\n",
        "df['Passengers'].value_counts()\n",
        "# 5 is the max count at 41, 8 is the min count at 1"
      ],
      "execution_count": 3,
      "outputs": [
        {
          "output_type": "execute_result",
          "data": {
            "text/plain": [
              "5    41\n",
              "4    23\n",
              "6    18\n",
              "7     8\n",
              "2     2\n",
              "8     1\n",
              "Name: Passengers, dtype: int64"
            ]
          },
          "metadata": {
            "tags": []
          },
          "execution_count": 3
        }
      ]
    },
    {
      "cell_type": "markdown",
      "metadata": {
        "id": "KAaERpQU3URG",
        "colab_type": "text"
      },
      "source": [
        "                                                                                                                      ."
      ]
    },
    {
      "cell_type": "markdown",
      "metadata": {
        "id": "zWYKYgOIuV7D",
        "colab_type": "text"
      },
      "source": [
        "## Question 2:\n",
        "### Using the same dataset, create both a crosstab and a pivot table. When might one be better to use than the other?"
      ]
    },
    {
      "cell_type": "code",
      "metadata": {
        "id": "G4Alsj-Buy9B",
        "colab_type": "code",
        "colab": {
          "base_uri": "https://localhost:8080/",
          "height": 131
        },
        "outputId": "9db4f0cc-b1b9-4afc-81f2-9a037a433a3a"
      },
      "source": [
        "#TODO\n",
        "df.head(5)\n",
        "mpgh_bin = pd.cut(df['MPG.highway'],5)\n",
        "ct = pd.crosstab(mpgh_bin,df['Type']) #creates a crosstab\n",
        "print(ct)\n",
        "\n"
      ],
      "execution_count": 10,
      "outputs": [
        {
          "output_type": "stream",
          "text": [
            "Type           Compact  Large  Midsize  Small  Sporty  Van\n",
            "MPG.highway                                               \n",
            "(19.97, 26.0]        2      6       11      0       5    9\n",
            "(26.0, 32.0]        11      5       11      5       7    0\n",
            "(32.0, 38.0]         3      0        0     12       2    0\n",
            "(38.0, 44.0]         0      0        0      2       0    0\n",
            "(44.0, 50.0]         0      0        0      2       0    0\n"
          ],
          "name": "stdout"
        }
      ]
    },
    {
      "cell_type": "code",
      "metadata": {
        "id": "b6q8DsEB7fIY",
        "colab_type": "code",
        "colab": {
          "base_uri": "https://localhost:8080/",
          "height": 147
        },
        "outputId": "1aadc924-6e2c-40af-bebd-cce0a043a370"
      },
      "source": [
        "\n",
        "#create pivot table \n",
        "pt = pd.pivot_table(df, values='MPG.highway', index='Type')\n",
        "print(pt)\n"
      ],
      "execution_count": 15,
      "outputs": [
        {
          "output_type": "stream",
          "text": [
            "         MPG.highway\n",
            "Type                \n",
            "Compact    29.875000\n",
            "Large      26.727273\n",
            "Midsize    26.727273\n",
            "Small      35.476190\n",
            "Sporty     28.785714\n",
            "Van        21.888889\n"
          ],
          "name": "stdout"
        }
      ]
    },
    {
      "cell_type": "markdown",
      "metadata": {
        "id": "LEQquDDG70tK",
        "colab_type": "text"
      },
      "source": [
        "Feel like the pivot table provides more inisght in this situation as to the MPG.highway per vehicle type."
      ]
    },
    {
      "cell_type": "code",
      "metadata": {
        "id": "6fboJ6047I50",
        "colab_type": "code",
        "colab": {
          "base_uri": "https://localhost:8080/",
          "height": 292
        },
        "outputId": "97b70bea-1070-42dc-a006-4c1ea139427f"
      },
      "source": [
        "df.head(5)"
      ],
      "execution_count": 8,
      "outputs": [
        {
          "output_type": "execute_result",
          "data": {
            "text/html": [
              "<div>\n",
              "<style scoped>\n",
              "    .dataframe tbody tr th:only-of-type {\n",
              "        vertical-align: middle;\n",
              "    }\n",
              "\n",
              "    .dataframe tbody tr th {\n",
              "        vertical-align: top;\n",
              "    }\n",
              "\n",
              "    .dataframe thead th {\n",
              "        text-align: right;\n",
              "    }\n",
              "</style>\n",
              "<table border=\"1\" class=\"dataframe\">\n",
              "  <thead>\n",
              "    <tr style=\"text-align: right;\">\n",
              "      <th></th>\n",
              "      <th>Manufacturer</th>\n",
              "      <th>Model</th>\n",
              "      <th>Type</th>\n",
              "      <th>Min.Price</th>\n",
              "      <th>Price</th>\n",
              "      <th>Max.Price</th>\n",
              "      <th>MPG.city</th>\n",
              "      <th>MPG.highway</th>\n",
              "      <th>AirBags</th>\n",
              "      <th>DriveTrain</th>\n",
              "      <th>Cylinders</th>\n",
              "      <th>EngineSize</th>\n",
              "      <th>Horsepower</th>\n",
              "      <th>RPM</th>\n",
              "      <th>Rev.per.mile</th>\n",
              "      <th>Man.trans.avail</th>\n",
              "      <th>Fuel.tank.capacity</th>\n",
              "      <th>Passengers</th>\n",
              "      <th>Lenth</th>\n",
              "      <th>Wheelbase</th>\n",
              "      <th>Width</th>\n",
              "      <th>Turn.circle</th>\n",
              "      <th>Rear.seat.room</th>\n",
              "      <th>Luggage.room</th>\n",
              "      <th>Weight</th>\n",
              "      <th>Origin</th>\n",
              "      <th>Make</th>\n",
              "    </tr>\n",
              "  </thead>\n",
              "  <tbody>\n",
              "    <tr>\n",
              "      <th>0</th>\n",
              "      <td>Acura</td>\n",
              "      <td>Integra</td>\n",
              "      <td>Small</td>\n",
              "      <td>12.9</td>\n",
              "      <td>15.9</td>\n",
              "      <td>18.8</td>\n",
              "      <td>25</td>\n",
              "      <td>31</td>\n",
              "      <td>None</td>\n",
              "      <td>Front</td>\n",
              "      <td>4</td>\n",
              "      <td>1.8</td>\n",
              "      <td>140</td>\n",
              "      <td>6300</td>\n",
              "      <td>2890</td>\n",
              "      <td>Yes</td>\n",
              "      <td>13.2</td>\n",
              "      <td>5</td>\n",
              "      <td>177</td>\n",
              "      <td>102</td>\n",
              "      <td>68</td>\n",
              "      <td>37</td>\n",
              "      <td>26.5</td>\n",
              "      <td>11.0</td>\n",
              "      <td>2705</td>\n",
              "      <td>non-USA</td>\n",
              "      <td>Acura Integra</td>\n",
              "    </tr>\n",
              "    <tr>\n",
              "      <th>1</th>\n",
              "      <td>Acura</td>\n",
              "      <td>Legend</td>\n",
              "      <td>Midsize</td>\n",
              "      <td>29.2</td>\n",
              "      <td>33.9</td>\n",
              "      <td>38.7</td>\n",
              "      <td>18</td>\n",
              "      <td>25</td>\n",
              "      <td>Driver &amp; Passenger</td>\n",
              "      <td>Front</td>\n",
              "      <td>6</td>\n",
              "      <td>3.2</td>\n",
              "      <td>200</td>\n",
              "      <td>5500</td>\n",
              "      <td>2335</td>\n",
              "      <td>Yes</td>\n",
              "      <td>18.0</td>\n",
              "      <td>5</td>\n",
              "      <td>195</td>\n",
              "      <td>115</td>\n",
              "      <td>71</td>\n",
              "      <td>38</td>\n",
              "      <td>30.0</td>\n",
              "      <td>15.0</td>\n",
              "      <td>3560</td>\n",
              "      <td>non-USA</td>\n",
              "      <td>Acura Legend</td>\n",
              "    </tr>\n",
              "    <tr>\n",
              "      <th>2</th>\n",
              "      <td>Audi</td>\n",
              "      <td>90</td>\n",
              "      <td>Compact</td>\n",
              "      <td>25.9</td>\n",
              "      <td>29.1</td>\n",
              "      <td>32.3</td>\n",
              "      <td>20</td>\n",
              "      <td>26</td>\n",
              "      <td>Driver only</td>\n",
              "      <td>Front</td>\n",
              "      <td>6</td>\n",
              "      <td>2.8</td>\n",
              "      <td>172</td>\n",
              "      <td>5500</td>\n",
              "      <td>2280</td>\n",
              "      <td>Yes</td>\n",
              "      <td>16.9</td>\n",
              "      <td>5</td>\n",
              "      <td>180</td>\n",
              "      <td>102</td>\n",
              "      <td>67</td>\n",
              "      <td>37</td>\n",
              "      <td>28.0</td>\n",
              "      <td>14.0</td>\n",
              "      <td>3375</td>\n",
              "      <td>non-USA</td>\n",
              "      <td>Audi 90</td>\n",
              "    </tr>\n",
              "    <tr>\n",
              "      <th>3</th>\n",
              "      <td>Audi</td>\n",
              "      <td>100</td>\n",
              "      <td>Midsize</td>\n",
              "      <td>30.8</td>\n",
              "      <td>37.7</td>\n",
              "      <td>44.6</td>\n",
              "      <td>19</td>\n",
              "      <td>26</td>\n",
              "      <td>Driver &amp; Passenger</td>\n",
              "      <td>Front</td>\n",
              "      <td>6</td>\n",
              "      <td>2.8</td>\n",
              "      <td>172</td>\n",
              "      <td>5500</td>\n",
              "      <td>2535</td>\n",
              "      <td>Yes</td>\n",
              "      <td>21.1</td>\n",
              "      <td>6</td>\n",
              "      <td>193</td>\n",
              "      <td>106</td>\n",
              "      <td>70</td>\n",
              "      <td>37</td>\n",
              "      <td>31.0</td>\n",
              "      <td>17.0</td>\n",
              "      <td>3405</td>\n",
              "      <td>non-USA</td>\n",
              "      <td>Audi 100</td>\n",
              "    </tr>\n",
              "    <tr>\n",
              "      <th>4</th>\n",
              "      <td>BMW</td>\n",
              "      <td>535i</td>\n",
              "      <td>Midsize</td>\n",
              "      <td>23.7</td>\n",
              "      <td>30.0</td>\n",
              "      <td>36.2</td>\n",
              "      <td>22</td>\n",
              "      <td>30</td>\n",
              "      <td>Driver only</td>\n",
              "      <td>Rear</td>\n",
              "      <td>4</td>\n",
              "      <td>3.5</td>\n",
              "      <td>208</td>\n",
              "      <td>5700</td>\n",
              "      <td>2545</td>\n",
              "      <td>Yes</td>\n",
              "      <td>21.1</td>\n",
              "      <td>4</td>\n",
              "      <td>186</td>\n",
              "      <td>109</td>\n",
              "      <td>69</td>\n",
              "      <td>39</td>\n",
              "      <td>27.0</td>\n",
              "      <td>13.0</td>\n",
              "      <td>3640</td>\n",
              "      <td>non-USA</td>\n",
              "      <td>BMW 535i</td>\n",
              "    </tr>\n",
              "  </tbody>\n",
              "</table>\n",
              "</div>"
            ],
            "text/plain": [
              "  Manufacturer    Model     Type  ...  Weight   Origin           Make\n",
              "0        Acura  Integra    Small  ...    2705  non-USA  Acura Integra\n",
              "1        Acura   Legend  Midsize  ...    3560  non-USA   Acura Legend\n",
              "2         Audi       90  Compact  ...    3375  non-USA        Audi 90\n",
              "3         Audi      100  Midsize  ...    3405  non-USA       Audi 100\n",
              "4          BMW     535i  Midsize  ...    3640  non-USA       BMW 535i\n",
              "\n",
              "[5 rows x 27 columns]"
            ]
          },
          "metadata": {
            "tags": []
          },
          "execution_count": 8
        }
      ]
    },
    {
      "cell_type": "markdown",
      "metadata": {
        "id": "rF7kZk8L3ZOM",
        "colab_type": "text"
      },
      "source": [
        "                                                                      ."
      ]
    },
    {
      "cell_type": "markdown",
      "metadata": {
        "id": "reH5YSnLu0fR",
        "colab_type": "text"
      },
      "source": [
        "## Question 3: \n",
        "### Let's practice some filtering. In our main dataframe, which manufacturer, model and type of car has the highest reported Price? (hint: checkout df.loc)\n",
        "\n",
        "### What is the exact row and column number of the cell containing the highest reported Price? Please print that value.\n"
      ]
    },
    {
      "cell_type": "code",
      "metadata": {
        "id": "JS3Ydo1r0ISV",
        "colab_type": "code",
        "colab": {
          "base_uri": "https://localhost:8080/",
          "height": 128
        },
        "outputId": "6979219a-933c-465e-d7ba-cd3397259274"
      },
      "source": [
        "#TODO\n",
        "\n",
        "df.loc[df['Max.Price'] == 80 ]\n",
        "#occurs at index 58 on a Mercedes-Benz, 300E at 80.0 for max.price"
      ],
      "execution_count": 31,
      "outputs": [
        {
          "output_type": "execute_result",
          "data": {
            "text/html": [
              "<div>\n",
              "<style scoped>\n",
              "    .dataframe tbody tr th:only-of-type {\n",
              "        vertical-align: middle;\n",
              "    }\n",
              "\n",
              "    .dataframe tbody tr th {\n",
              "        vertical-align: top;\n",
              "    }\n",
              "\n",
              "    .dataframe thead th {\n",
              "        text-align: right;\n",
              "    }\n",
              "</style>\n",
              "<table border=\"1\" class=\"dataframe\">\n",
              "  <thead>\n",
              "    <tr style=\"text-align: right;\">\n",
              "      <th></th>\n",
              "      <th>Manufacturer</th>\n",
              "      <th>Model</th>\n",
              "      <th>Type</th>\n",
              "      <th>Min.Price</th>\n",
              "      <th>Price</th>\n",
              "      <th>Max.Price</th>\n",
              "      <th>MPG.city</th>\n",
              "      <th>MPG.highway</th>\n",
              "      <th>AirBags</th>\n",
              "      <th>DriveTrain</th>\n",
              "      <th>Cylinders</th>\n",
              "      <th>EngineSize</th>\n",
              "      <th>Horsepower</th>\n",
              "      <th>RPM</th>\n",
              "      <th>Rev.per.mile</th>\n",
              "      <th>Man.trans.avail</th>\n",
              "      <th>Fuel.tank.capacity</th>\n",
              "      <th>Passengers</th>\n",
              "      <th>Lenth</th>\n",
              "      <th>Wheelbase</th>\n",
              "      <th>Width</th>\n",
              "      <th>Turn.circle</th>\n",
              "      <th>Rear.seat.room</th>\n",
              "      <th>Luggage.room</th>\n",
              "      <th>Weight</th>\n",
              "      <th>Origin</th>\n",
              "      <th>Make</th>\n",
              "    </tr>\n",
              "  </thead>\n",
              "  <tbody>\n",
              "    <tr>\n",
              "      <th>58</th>\n",
              "      <td>Mercedes-Benz</td>\n",
              "      <td>300E</td>\n",
              "      <td>Midsize</td>\n",
              "      <td>43.8</td>\n",
              "      <td>61.9</td>\n",
              "      <td>80.0</td>\n",
              "      <td>19</td>\n",
              "      <td>25</td>\n",
              "      <td>Driver &amp; Passenger</td>\n",
              "      <td>Rear</td>\n",
              "      <td>6</td>\n",
              "      <td>3.2</td>\n",
              "      <td>217</td>\n",
              "      <td>5500</td>\n",
              "      <td>2220</td>\n",
              "      <td>No</td>\n",
              "      <td>18.5</td>\n",
              "      <td>5</td>\n",
              "      <td>187</td>\n",
              "      <td>110</td>\n",
              "      <td>69</td>\n",
              "      <td>37</td>\n",
              "      <td>27.0</td>\n",
              "      <td>15.0</td>\n",
              "      <td>3525</td>\n",
              "      <td>non-USA</td>\n",
              "      <td>Mercedes-Benz 300E</td>\n",
              "    </tr>\n",
              "  </tbody>\n",
              "</table>\n",
              "</div>"
            ],
            "text/plain": [
              "     Manufacturer Model     Type  ...  Weight   Origin                Make\n",
              "58  Mercedes-Benz  300E  Midsize  ...    3525  non-USA  Mercedes-Benz 300E\n",
              "\n",
              "[1 rows x 27 columns]"
            ]
          },
          "metadata": {
            "tags": []
          },
          "execution_count": 31
        }
      ]
    },
    {
      "cell_type": "code",
      "metadata": {
        "id": "ae7clPvL9SEw",
        "colab_type": "code",
        "colab": {
          "base_uri": "https://localhost:8080/",
          "height": 33
        },
        "outputId": "b21053e2-950c-4ce1-ffb5-8d4a855c527f"
      },
      "source": [
        "df['Max.Price'].max()"
      ],
      "execution_count": 33,
      "outputs": [
        {
          "output_type": "execute_result",
          "data": {
            "text/plain": [
              "80.0"
            ]
          },
          "metadata": {
            "tags": []
          },
          "execution_count": 33
        }
      ]
    },
    {
      "cell_type": "code",
      "metadata": {
        "id": "q2vZVVQb92F0",
        "colab_type": "code",
        "colab": {
          "base_uri": "https://localhost:8080/",
          "height": 1000
        },
        "outputId": "bd010037-cef9-44df-fd4b-f5eed3747262"
      },
      "source": [
        "df['Max.Price'].value_counts()"
      ],
      "execution_count": 26,
      "outputs": [
        {
          "output_type": "execute_result",
          "data": {
            "text/plain": [
              "22.7    3\n",
              "21.2    3\n",
              "21.7    3\n",
              "18.4    3\n",
              "11.0    2\n",
              "9.5     2\n",
              "12.9    2\n",
              "18.3    2\n",
              "14.9    2\n",
              "10.0    2\n",
              "22.4    1\n",
              "29.4    1\n",
              "23.5    1\n",
              "11.8    1\n",
              "25.3    1\n",
              "21.4    1\n",
              "12.3    1\n",
              "17.4    1\n",
              "18.6    1\n",
              "18.8    1\n",
              "24.8    1\n",
              "15.8    1\n",
              "28.5    1\n",
              "19.5    1\n",
              "21.9    1\n",
              "32.5    1\n",
              "41.5    1\n",
              "29.5    1\n",
              "16.5    1\n",
              "21.0    1\n",
              "       ..\n",
              "11.4    1\n",
              "12.2    1\n",
              "9.9     1\n",
              "15.2    1\n",
              "36.2    1\n",
              "9.2     1\n",
              "28.4    1\n",
              "7.9     1\n",
              "16.8    1\n",
              "37.1    1\n",
              "17.1    1\n",
              "36.3    1\n",
              "44.6    1\n",
              "24.9    1\n",
              "35.3    1\n",
              "35.6    1\n",
              "22.6    1\n",
              "50.4    1\n",
              "19.6    1\n",
              "9.1     1\n",
              "17.3    1\n",
              "18.7    1\n",
              "15.3    1\n",
              "34.9    1\n",
              "21.6    1\n",
              "26.3    1\n",
              "32.3    1\n",
              "38.7    1\n",
              "26.6    1\n",
              "18.0    1\n",
              "Name: Max.Price, Length: 79, dtype: int64"
            ]
          },
          "metadata": {
            "tags": []
          },
          "execution_count": 26
        }
      ]
    },
    {
      "cell_type": "code",
      "metadata": {
        "id": "3DZyCcUd825D",
        "colab_type": "code",
        "colab": {
          "base_uri": "https://localhost:8080/",
          "height": 553
        },
        "outputId": "90f58cf9-2e14-4b73-883b-5935fcd02e4c"
      },
      "source": [
        "df['Manufacturer'].value_counts()"
      ],
      "execution_count": 20,
      "outputs": [
        {
          "output_type": "execute_result",
          "data": {
            "text/plain": [
              "Chevrolet        8\n",
              "Ford             8\n",
              "Dodge            6\n",
              "Mazda            5\n",
              "Pontiac          5\n",
              "Nissan           4\n",
              "Volkswagen       4\n",
              "Oldsmobile       4\n",
              "Hyundai          4\n",
              "Buick            4\n",
              "Toyota           4\n",
              "Honda            3\n",
              "Subaru           3\n",
              "Geo              2\n",
              "Lexus            2\n",
              "Eagle            2\n",
              "Mitsubishi       2\n",
              "Chrysler         2\n",
              "Mercury          2\n",
              "Cadillac         2\n",
              "Acura            2\n",
              "Mercedes-Benz    2\n",
              "Audi             2\n",
              "Volvo            2\n",
              "Lincoln          2\n",
              "Plymouth         1\n",
              "BMW              1\n",
              "Chrylser         1\n",
              "Saturn           1\n",
              "Suzuki           1\n",
              "Saab             1\n",
              "Infiniti         1\n",
              "Name: Manufacturer, dtype: int64"
            ]
          },
          "metadata": {
            "tags": []
          },
          "execution_count": 20
        }
      ]
    },
    {
      "cell_type": "code",
      "metadata": {
        "id": "hl_NAnWt9Exg",
        "colab_type": "code",
        "colab": {
          "base_uri": "https://localhost:8080/",
          "height": 1000
        },
        "outputId": "0068e369-2b2c-4bbd-af79-65c43f998253"
      },
      "source": [
        "df['Model'].value_counts()"
      ],
      "execution_count": 19,
      "outputs": [
        {
          "output_type": "execute_result",
          "data": {
            "text/plain": [
              "Summit            1\n",
              "Stealth           1\n",
              "Continental       1\n",
              "Crown_Victoria    1\n",
              "Loyale            1\n",
              "Concorde          1\n",
              "Legend            1\n",
              "Caravan           1\n",
              "900               1\n",
              "Cavalier          1\n",
              "Vision            1\n",
              "Eighty-Eight      1\n",
              "RX-7              1\n",
              "Imperial          1\n",
              "Previa            1\n",
              "300E              1\n",
              "Camry             1\n",
              "Camaro            1\n",
              "Lumina            1\n",
              "Civic             1\n",
              "Q45               1\n",
              "LeSabre           1\n",
              "Roadmaster        1\n",
              "Escort            1\n",
              "Sunbird           1\n",
              "Passat            1\n",
              "Bonneville        1\n",
              "Integra           1\n",
              "Tercel            1\n",
              "LeBaron           1\n",
              "                 ..\n",
              "Mirage            1\n",
              "626               1\n",
              "Accord            1\n",
              "ES300             1\n",
              "Astro             1\n",
              "Cougar            1\n",
              "Seville           1\n",
              "240               1\n",
              "Swift             1\n",
              "Cutlass_Ciera     1\n",
              "Tempo             1\n",
              "Town_Car          1\n",
              "LeMans            1\n",
              "Corvette          1\n",
              "Storm             1\n",
              "Spirit            1\n",
              "Excel             1\n",
              "535i              1\n",
              "90                1\n",
              "DeVille           1\n",
              "MPV               1\n",
              "Prelude           1\n",
              "Scoupe            1\n",
              "Eurovan           1\n",
              "Probe             1\n",
              "Festiva           1\n",
              "Silhouette        1\n",
              "Maxima            1\n",
              "Celica            1\n",
              "Riviera           1\n",
              "Name: Model, Length: 93, dtype: int64"
            ]
          },
          "metadata": {
            "tags": []
          },
          "execution_count": 19
        }
      ]
    },
    {
      "cell_type": "code",
      "metadata": {
        "id": "XbJIME3z9E3J",
        "colab_type": "code",
        "colab": {
          "base_uri": "https://localhost:8080/",
          "height": 131
        },
        "outputId": "0a2ddb8e-3c3a-43ff-8cca-bcc730c5d4d8"
      },
      "source": [
        "df['Type'].value_counts()"
      ],
      "execution_count": 18,
      "outputs": [
        {
          "output_type": "execute_result",
          "data": {
            "text/plain": [
              "Midsize    22\n",
              "Small      21\n",
              "Compact    16\n",
              "Sporty     14\n",
              "Large      11\n",
              "Van         9\n",
              "Name: Type, dtype: int64"
            ]
          },
          "metadata": {
            "tags": []
          },
          "execution_count": 18
        }
      ]
    },
    {
      "cell_type": "markdown",
      "metadata": {
        "id": "xo8jnT2m3c5a",
        "colab_type": "text"
      },
      "source": [
        "                                                  ."
      ]
    },
    {
      "cell_type": "markdown",
      "metadata": {
        "id": "re1CiYD_0KJm",
        "colab_type": "text"
      },
      "source": [
        "## Question 4: \n",
        "### Get creative! Use any library you'd like to practice making plots. If you have extra time, try to incorporate color or something cool you've found that we haven't reviewed in class yet. Have fun with this and let's get some volunteers to show off their creations :) \n",
        "\n"
      ]
    },
    {
      "cell_type": "code",
      "metadata": {
        "id": "ip3q80DW0664",
        "colab_type": "code",
        "colab": {
          "base_uri": "https://localhost:8080/",
          "height": 298
        },
        "outputId": "dfc11772-30ab-46d3-ddd2-aed2d56565f8"
      },
      "source": [
        "#TODO\n",
        "import matplotlib.pyplot as plt\n",
        "\n",
        "df.head(5)\n",
        "plt.plot(df['Max.Price'], df['MPG.city'], 'k+',df['Max.Price'], df['Horsepower'], 'c>') #used different color notations\n",
        "plt.xlabel('Max Price')\n",
        "plt.ylabel('MPG City//Horsepower')\n"
      ],
      "execution_count": 43,
      "outputs": [
        {
          "output_type": "execute_result",
          "data": {
            "text/plain": [
              "Text(0, 0.5, 'MPG City//Horsepower')"
            ]
          },
          "metadata": {
            "tags": []
          },
          "execution_count": 43
        },
        {
          "output_type": "display_data",
          "data": {
            "image/png": "[encoded data removed]",
            "text/plain": [
              "<Figure size 432x288 with 1 Axes>"
            ]
          },
          "metadata": {
            "tags": []
          }
        }
      ]
    }
  ]
}